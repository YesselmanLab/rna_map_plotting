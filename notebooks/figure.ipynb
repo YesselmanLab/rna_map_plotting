{
 "cells": [
  {
   "cell_type": "code",
   "execution_count": 6,
   "id": "0876b264",
   "metadata": {},
   "outputs": [],
   "source": [
    "import matplotlib.pyplot as plt\n",
    "import matplotlib.axes as axes\n",
    "import matplotlib.lines as mlines\n",
    "import matplotlib.image as mpimg\n",
    "import matplotlib.patches as patches\n",
    "\n",
    "from yplot.figure import SubplotLayout, calculate_subplot_coordinates, calculate_row_spacing, convert_coordinates_to_inches, expand_subplot_coordinates\n",
    "from yplot.plotting import create_figure_with_layout\n",
    "from yplot.util import render_example_figure, draw_box_around_figure, draw_box_around_subplot\n",
    "from yplot.style import publication_style_ax"
   ]
  },
  {
   "cell_type": "code",
   "execution_count": 7,
   "id": "2c710c7b",
   "metadata": {},
   "outputs": [],
   "source": [
    "def load_and_fit_image_to_subplot(image_path, ax):\n",
    "    \"\"\"\n",
    "    Load an image from file and stretch it to fit in a subplot.\n",
    "\n",
    "    Parameters:\n",
    "    -----------\n",
    "    image_path : str\n",
    "        Path to the image file\n",
    "    subplot_coords : tuple\n",
    "        Subplot coordinates as (left, bottom, width, height) in figure-relative units\n",
    "    fig : matplotlib.figure.Figure\n",
    "        The figure object\n",
    "    ax : matplotlib.axes.Axes\n",
    "        The axes object where the image will be placed\n",
    "\n",
    "    Returns:\n",
    "    --------\n",
    "    matplotlib.image.AxesImage\n",
    "        The image object that was added to the subplot\n",
    "    \"\"\"\n",
    "\n",
    "    # Load the image\n",
    "    try:\n",
    "        img = mpimg.imread(image_path)\n",
    "    except Exception as e:\n",
    "        raise ValueError(f\"Could not load image from {image_path}: {e}\")\n",
    "\n",
    "    # Clear the axes\n",
    "    ax.clear()\n",
    "\n",
    "    # Display the image stretched to fit the subplot\n",
    "    img_plot = ax.imshow(img)\n",
    "\n",
    "    # Remove axes ticks and labels\n",
    "    ax.set_xticks([])\n",
    "    ax.set_yticks([])\n",
    "    ax.set_xticklabels([])\n",
    "    ax.set_yticklabels([])\n",
    "\n",
    "    # Remove spines\n",
    "    for spine in ax.spines.values():\n",
    "        spine.set_visible(False)\n",
    "\n",
    "    return img_plot"
   ]
  },
  {
   "cell_type": "code",
   "execution_count": 8,
   "id": "037be4a7",
   "metadata": {},
   "outputs": [],
   "source": [
    "def fill_plots(axes, shared_y_axis=False, shared_x_axis=False):\n",
    "    for i, ax in enumerate(axes):\n",
    "        ax.plot([0, 1], [0, 1], color=\"black\")\n",
    "        publication_style_ax(ax)\n",
    "        if shared_y_axis and i == 0:\n",
    "            ax.set_ylabel(\"y values\")\n",
    "        elif shared_y_axis:\n",
    "            ax.set_ylabel(\"\")\n",
    "        else:\n",
    "            ax.set_ylabel(\"y values\")\n",
    "        if shared_x_axis and i == 0:\n",
    "            ax.set_xlabel(\"x values\")\n",
    "        elif shared_x_axis:\n",
    "            ax.set_xlabel(\"\")\n",
    "        else:\n",
    "            ax.set_xlabel(\"x values\")\n",
    "    return axes"
   ]
  },
  {
   "cell_type": "markdown",
   "id": "ab2a036f",
   "metadata": {},
   "source": [
    "# Plots"
   ]
  },
  {
   "cell_type": "markdown",
   "id": "7bf26ebc",
   "metadata": {},
   "source": [
    "# portrait plots"
   ]
  },
  {
   "cell_type": "markdown",
   "id": "c5a9f262",
   "metadata": {},
   "source": [
    "## 1x4 plot"
   ]
  },
  {
   "cell_type": "code",
   "execution_count": 9,
   "id": "0c47686a",
   "metadata": {},
   "outputs": [
    {
     "name": "stdout",
     "output_type": "stream",
     "text": [
      "(0.0, 0.0, 1.7000000000000002, 1.8)\n"
     ]
    },
    {
     "data": {
      "image/png": "[encoded data removed]",
      "text/plain": [
       "<Figure size 700x200 with 4 Axes>"
      ]
     },
     "metadata": {},
     "output_type": "display_data"
    }
   ],
   "source": [
    "# 1x4 plot with SubplotLayout\n",
    "layout_dict = {\n",
    "    \"fig_size_inches\": (7, 2),\n",
    "    \"rows\": 1,\n",
    "    \"cols\": 4,\n",
    "    \"row_heights\": [1.3],\n",
    "    \"col_widths\": [1.3, 1.3, 1.3, 1.3],\n",
    "    \"hspace\": [0.45, 0.45, 0.45, 0.45],\n",
    "    \"wspace\": [0.50],\n",
    "    \"margins\": {\"left\": 0.40, \"right\": 0.0, \"top\": 0.0, \"bottom\": 0.50}\n",
    "}\n",
    "layout = SubplotLayout(\n",
    "    config=layout_dict\n",
    ")\n",
    "\n",
    "# Get coordinates\n",
    "coords = layout.get_coordinates()\n",
    "\n",
    "# Visualize the layout\n",
    "fig = render_example_figure(coords, (7, 2), grid_layout=(1, 4));\n",
    "expanded_coords = expand_subplot_coordinates(\n",
    "    coords[0], (7, 2), \n",
    "    margins={'left': 0.4, 'right': 0.0, \"top\": 0.0, \"bottom\": 0.5}, \n",
    "    spacing={'hspace': 0.45, 'wspace': 0.50}, \n",
    "    include_adjacent_spacing=False)\n",
    "draw_box_around_figure(fig);\n",
    "draw_box_around_subplot(fig, expanded_coords);\n",
    "print(convert_coordinates_to_inches(expanded_coords, (7, 2)))\n",
    "\n"
   ]
  },
  {
   "cell_type": "code",
   "execution_count": 10,
   "id": "5d6b7d6a",
   "metadata": {},
   "outputs": [
    {
     "name": "stdout",
     "output_type": "stream",
     "text": [
      "(0.0, 0.0, 1.7000000000000002, 1.8)\n"
     ]
    },
    {
     "data": {
      "image/png": "[encoded data removed]",
      "text/plain": [
       "<Figure size 700x200 with 4 Axes>"
      ]
     },
     "metadata": {},
     "output_type": "display_data"
    }
   ],
   "source": [
    "# 1x4 plot with SubplotLayout using row_1 definition\n",
    "layout_dict = {\n",
    "    \"fig_size\": (7, 2),\n",
    "    \"row_1\": {\n",
    "        \"size\": (1.3, 1.3), \n",
    "        \"hspace\": 0.45,\n",
    "        \"wspace\": 0.50,\n",
    "        \"margins\": {\"left\": 0.40, \"right\": 0.0, \"top\": 0.0, \"bottom\": 0.50},\n",
    "        \"cols\": 4\n",
    "    },\n",
    "}\n",
    "layout = SubplotLayout(\n",
    "    config=layout_dict\n",
    ")\n",
    "\n",
    "# Get coordinates\n",
    "coords = layout.get_coordinates()\n",
    "\n",
    "# Visualize the layout\n",
    "fig = render_example_figure(coords, (7, 2), grid_layout=(1, 4));\n",
    "expanded_coords = expand_subplot_coordinates(\n",
    "    coords[0], (7, 2), \n",
    "    margins={'left': 0.4, 'right': 0.0, \"top\": 0.0, \"bottom\": 0.5}, \n",
    "    spacing={'hspace': 0.45, 'wspace': 0.50}, \n",
    "    include_adjacent_spacing=False)\n",
    "draw_box_around_figure(fig);\n",
    "draw_box_around_subplot(fig, expanded_coords);\n",
    "print(convert_coordinates_to_inches(expanded_coords, (7, 2)))"
   ]
  },
  {
   "cell_type": "code",
   "execution_count": 11,
   "id": "9d4d062f",
   "metadata": {},
   "outputs": [
    {
     "data": {
      "text/plain": [
       "0.4666666666666666"
      ]
     },
     "execution_count": 11,
     "metadata": {},
     "output_type": "execute_result"
    }
   ],
   "source": [
    "calculate_row_spacing(\n",
    "    fig_size_inches=(7, 2),\n",
    "    num_sub_plots=4,\n",
    "    figure_width=1.3,\n",
    "    margins={'left': 0.4, 'right': 0.0}\n",
    ")\n"
   ]
  },
  {
   "cell_type": "code",
   "execution_count": null,
   "id": "4731b4fa",
   "metadata": {},
   "outputs": [],
   "source": []
  },
  {
   "cell_type": "markdown",
   "id": "ee4cb00a",
   "metadata": {},
   "source": [
    "## 1x4 plot shared y-axis"
   ]
  },
  {
   "cell_type": "code",
   "execution_count": 12,
   "id": "dae794da",
   "metadata": {},
   "outputs": [
    {
     "data": {
      "image/png": "[encoded data removed]",
      "text/plain": [
       "<Figure size 700x185 with 4 Axes>"
      ]
     },
     "metadata": {},
     "output_type": "display_data"
    }
   ],
   "source": [
    "# 1x4 plot with shared y-axis using new dictionary format\n",
    "layout_dict = {\n",
    "    \"fig_size\": (7, 1.85),\n",
    "    \"row_1\": {\n",
    "        \"size\": (1.4, 1.4),\n",
    "        \"hspace\": 0.30,\n",
    "        \"wspace\": 0.50,\n",
    "        \"margins\": {\"left\": 0.40, \"right\": 0.0, \"top\": 0.0, \"bottom\": 0.30},\n",
    "        \"cols\": 4\n",
    "    },\n",
    "}\n",
    "layout = SubplotLayout(config=layout_dict)\n",
    "\n",
    "# Get coordinates\n",
    "coords = layout.get_coordinates()\n",
    "\n",
    "# Visualize the layout\n",
    "fig = render_example_figure(coords, (7, 1.85), grid_layout=(1, 4))\n",
    "draw_box_around_figure(fig)\n"
   ]
  },
  {
   "cell_type": "code",
   "execution_count": 13,
   "id": "014a26df",
   "metadata": {},
   "outputs": [
    {
     "data": {
      "image/png": "[encoded data removed]",
      "text/plain": [
       "<Figure size 700x185 with 4 Axes>"
      ]
     },
     "metadata": {},
     "output_type": "display_data"
    }
   ],
   "source": [
    "fig = plt.figure(figsize=(7, 1.85))\n",
    "axes = []\n",
    "for i in range(4):\n",
    "    ax = fig.add_axes(coords[i])\n",
    "    axes.append(ax)\n",
    "fill_plots(axes, shared_y_axis=True)\n",
    "draw_box_around_figure(fig)\n"
   ]
  },
  {
   "cell_type": "markdown",
   "id": "ef9dca3c",
   "metadata": {},
   "source": [
    "## 1x3 plot"
   ]
  },
  {
   "cell_type": "code",
   "execution_count": 14,
   "id": "d4c00324",
   "metadata": {},
   "outputs": [
    {
     "data": {
      "image/png": "[encoded data removed]",
      "text/plain": [
       "<Figure size 700x230 with 3 Axes>"
      ]
     },
     "metadata": {},
     "output_type": "display_data"
    }
   ],
   "source": [
    "# 1x3 plot with new dictionary format\n",
    "layout_dict = {\n",
    "    \"fig_size\": (7, 2.3),\n",
    "    \"row_1\": {\n",
    "        \"size\": (1.85, 1.85),\n",
    "        \"hspace\": 0.50,\n",
    "        \"wspace\": 0.50,\n",
    "        \"margins\": {\"left\": 0.40, \"right\": 0.0, \"top\": 0.0, \"bottom\": 0.30},\n",
    "        \"cols\": 3\n",
    "    },\n",
    "}\n",
    "layout = SubplotLayout(config=layout_dict)\n",
    "\n",
    "# Get coordinates\n",
    "coords = layout.get_coordinates()\n",
    "\n",
    "# Visualize the layout\n",
    "render_example_figure(coords, (7, 2.3), grid_layout=(1, 3));"
   ]
  },
  {
   "cell_type": "markdown",
   "id": "38dc0183",
   "metadata": {},
   "source": [
    "## 1x5 plot\n",
    "\n"
   ]
  },
  {
   "cell_type": "code",
   "execution_count": 15,
   "id": "d733b332",
   "metadata": {},
   "outputs": [
    {
     "data": {
      "image/png": "[encoded data removed]",
      "text/plain": [
       "<Figure size 700x150 with 5 Axes>"
      ]
     },
     "metadata": {},
     "output_type": "display_data"
    }
   ],
   "source": [
    "# 1x5 plot with new dictionary format\n",
    "layout_dict = {\n",
    "    \"fig_size\": (7, 1.5),\n",
    "    \"row_1\": {\n",
    "        \"size\": (0.95, 0.95),\n",
    "        \"hspace\": 0.45,\n",
    "        \"wspace\": 0.50,\n",
    "        \"margins\": {\"left\": 0.40, \"right\": 0.0, \"top\": 0.0, \"bottom\": 0.30},\n",
    "        \"cols\": 5\n",
    "    },\n",
    "}\n",
    "layout = SubplotLayout(config=layout_dict)\n",
    "\n",
    "# Get coordinates\n",
    "coords = layout.get_coordinates()\n",
    "\n",
    "# Visualize the layout\n",
    "render_example_figure(coords, (7, 1.5), grid_layout=(1, 5));"
   ]
  },
  {
   "cell_type": "code",
   "execution_count": 16,
   "id": "e037e695",
   "metadata": {},
   "outputs": [
    {
     "data": {
      "image/png": "[encoded data removed]",
      "text/plain": [
       "<Figure size 800x600 with 6 Axes>"
      ]
     },
     "metadata": {},
     "output_type": "display_data"
    }
   ],
   "source": [
    "## Using create_figure_with_layout with Dictionary Format\n",
    "\n",
    "# Create layout using dictionary format\n",
    "layout_dict = {\n",
    "    \"fig_size\": (8, 6),\n",
    "    \"row_1\": {\n",
    "        \"size\": (2.0, 2.5),\n",
    "        \"hspace\": 0.3,\n",
    "        \"wspace\": 0.4,\n",
    "        \"margins\": {\"left\": 0.75, \"right\": 0.75, \"top\": 0.5, \"bottom\": 0.25},\n",
    "        \"cols\": 3\n",
    "    },\n",
    "    \"row_2\": {\n",
    "        \"size\": (2.0, 2.0),\n",
    "        \"hspace\": 0.3,\n",
    "        \"wspace\": 0.4,\n",
    "        \"margins\": {\"left\": 0.75, \"right\": 0.75, \"top\": 0.25, \"bottom\": 0.5},\n",
    "        \"cols\": 3\n",
    "    },\n",
    "}\n",
    "layout = SubplotLayout(config=layout_dict)\n",
    "\n",
    "# Create figure and axes in one step\n",
    "fig, axes = create_figure_with_layout(layout)\n",
    "\n",
    "# Fill the plots\n",
    "fill_plots(axes)\n",
    "draw_box_around_figure(fig)"
   ]
  },
  {
   "cell_type": "code",
   "execution_count": null,
   "id": "43058d42",
   "metadata": {},
   "outputs": [],
   "source": []
  }
 ],
 "metadata": {
  "kernelspec": {
   "display_name": "py3",
   "language": "python",
   "name": "python3"
  },
  "language_info": {
   "codemirror_mode": {
    "name": "ipython",
    "version": 3
   },
   "file_extension": ".py",
   "mimetype": "text/x-python",
   "name": "python",
   "nbconvert_exporter": "python",
   "pygments_lexer": "ipython3",
   "version": "3.8.19"
  }
 },
 "nbformat": 4,
 "nbformat_minor": 5
}
